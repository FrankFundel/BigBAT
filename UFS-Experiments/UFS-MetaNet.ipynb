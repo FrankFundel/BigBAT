{
 "cells": [
  {
   "cell_type": "code",
   "execution_count": 1,
   "id": "8e888e1d",
   "metadata": {},
   "outputs": [],
   "source": [
    "import numpy as np\n",
    "\n",
    "ufs_classes_list = [\n",
    "    #\"Rhinolophus capensis\",\n",
    "    #\"Rhinolophus smithersi\",\n",
    "    \"Rhinolophus clivosus\",\n",
    "    \"Rhinolophus simulator\",\n",
    "    #\"Myotis tricolor\",\n",
    "    #\"Myotis welwitschii\",\n",
    "    \"Pipistrellus hesperidus\",\n",
    "    #\"Eptesicus hottentotus\",\n",
    "    \"Minopterus natalensis\",\n",
    "    \"Taphozous mauritianus\",\n",
    "    #\"Scotophilus dinganii\",\n",
    "    \"Cistugo lesueuri\",\n",
    "    \"Laephotis capensis\",\n",
    "    #\"Rousettus aegyptiacus\",\n",
    "    \"Chaerephon pumilus\",\n",
    "    \"Tadarida aegyptiaca\",\n",
    "    #\"Vespertilionidae\",\n",
    "    #\"Kerivoula\",\n",
    "    \"Pesticide Spray\",\n",
    "    #\"Unlabeled\",\n",
    "]\n",
    "ufs_classes = { ufs_classes_list[i]: i for i in range(0, len(ufs_classes_list)) }"
   ]
  },
  {
   "cell_type": "code",
   "execution_count": 4,
   "id": "cf3e3259",
   "metadata": {},
   "outputs": [],
   "source": [
    "import csv\n",
    "\n",
    "time_data = [[] for _ in ufs_classes]\n",
    "date_data = [[] for _ in ufs_classes]\n",
    "temp_data = [[] for _ in ufs_classes]\n",
    "loc_data = [[] for _ in ufs_classes]\n",
    "\n",
    "spec_count2 = np.zeros(len(list(ufs_classes)))\n",
    "k = 1000\n",
    "\n",
    "with open('../UFS/meta_n.csv') as csvfile:\n",
    "    reader = csv.reader(csvfile, delimiter=';')\n",
    "    next(reader)\n",
    "    for row in reader:\n",
    "        species = row[25]\n",
    "        time = int(row[5].split(':')[0]) # hh:mm:ss to h\n",
    "        date = int(row[4].split('-')[1]) # yyyy-mm-dd to m\n",
    "        temp = float(row[12])\n",
    "        loc = [float(row[10]), float(row[11])]\n",
    "        \n",
    "        for s in species.split(','):\n",
    "            if s in ufs_classes:\n",
    "                i = ufs_classes[s]\n",
    "                if spec_count2[i] < k:\n",
    "                    spec_count2[i] += 1\n",
    "                    time_data[i].append(time)\n",
    "                    date_data[i].append(date)\n",
    "                    temp_data[i].append(temp)\n",
    "                    loc_data[i].append(loc)"
   ]
  },
  {
   "cell_type": "code",
   "execution_count": 5,
   "id": "0d1a968b",
   "metadata": {},
   "outputs": [],
   "source": [
    "from sklearn.model_selection import train_test_split\n",
    "\n",
    "X = []\n",
    "Y = []\n",
    "\n",
    "for i, data in enumerate(time_data):\n",
    "    X.extend(data)\n",
    "    Y.extend([i] * len(data))\n",
    "\n",
    "X = np.asarray(X)\n",
    "Y = np.asarray(Y)\n",
    "\n",
    "X_train, X_test, Y_train, Y_test = train_test_split(X, Y, test_size=0.15, random_state=42)\n",
    "X_train, X_val, Y_train, Y_val = train_test_split(X, Y, test_size=0.1, random_state=42)"
   ]
  },
  {
   "cell_type": "code",
   "execution_count": 6,
   "id": "b43309d3-d266-4d8e-975b-261b7a815360",
   "metadata": {
    "tags": []
   },
   "outputs": [
    {
     "name": "stdout",
     "output_type": "stream",
     "text": [
      "(4744,) (4744,)\n",
      "[19 20  4 21  2] [7 8 8 8 2]\n"
     ]
    }
   ],
   "source": [
    "print(X.shape, Y.shape)\n",
    "print(X_train[:5], Y_train[:5])"
   ]
  },
  {
   "cell_type": "code",
   "execution_count": 7,
   "id": "0696953a-e082-45be-9ae0-50e20d3b62f4",
   "metadata": {
    "tags": []
   },
   "outputs": [],
   "source": [
    "from sklearn import tree\n",
    "clf = tree.DecisionTreeClassifier()\n",
    "clf = clf.fit(X.reshape(-1, 1), Y)"
   ]
  },
  {
   "cell_type": "code",
   "execution_count": 8,
   "id": "d9e71a33-557f-4d00-aa7f-ab3eb18720f0",
   "metadata": {
    "tags": []
   },
   "outputs": [
    {
     "name": "stdout",
     "output_type": "stream",
     "text": [
      "[9] 0\n",
      "[7] 0\n",
      "[8] 0\n",
      "[9] 0\n",
      "[7] 0\n",
      "[8] 0\n",
      "[8] 0\n",
      "[9] 0\n",
      "[8] 0\n",
      "[8] 0\n",
      "[8] 0\n",
      "[8] 0\n",
      "[8] 0\n",
      "[8] 0\n",
      "[8] 0\n",
      "[8] 0\n",
      "[8] 0\n",
      "[8] 0\n",
      "[8] 0\n",
      "[8] 0\n",
      "[8] 0\n",
      "[8] 0\n",
      "[8] 0\n",
      "[7] 0\n",
      "[8] 0\n",
      "[7] 0\n",
      "[7] 0\n",
      "[7] 0\n",
      "[7] 0\n",
      "[9] 0\n",
      "[9] 0\n",
      "[8] 0\n",
      "[8] 0\n",
      "[8] 0\n",
      "[9] 0\n",
      "[7] 0\n",
      "[7] 0\n",
      "[7] 0\n",
      "[7] 0\n",
      "[7] 0\n",
      "[9] 0\n",
      "[9] 0\n",
      "[9] 0\n",
      "[7] 0\n",
      "[9] 0\n",
      "[8] 0\n",
      "[8] 0\n",
      "[7] 0\n",
      "[7] 0\n",
      "[7] 0\n",
      "[8] 0\n",
      "[7] 0\n",
      "[8] 0\n",
      "[6] 0\n",
      "[8] 0\n",
      "[8] 0\n",
      "[8] 1\n",
      "[7] 1\n",
      "[6] 1\n",
      "[8] 2\n",
      "[8] 2\n",
      "[8] 2\n",
      "[6] 2\n",
      "[8] 2\n",
      "[8] 2\n",
      "[8] 2\n",
      "[7] 2\n",
      "[9] 2\n",
      "[9] 2\n",
      "[7] 2\n",
      "[7] 2\n",
      "[7] 2\n",
      "[7] 2\n",
      "[7] 2\n",
      "[9] 2\n",
      "[9] 2\n",
      "[9] 2\n",
      "[9] 2\n",
      "[9] 2\n",
      "[9] 2\n",
      "[9] 2\n",
      "[8] 2\n",
      "[8] 2\n",
      "[8] 2\n",
      "[8] 2\n",
      "[8] 2\n",
      "[8] 2\n",
      "[8] 2\n",
      "[8] 2\n",
      "[8] 2\n",
      "[8] 2\n",
      "[8] 2\n",
      "[8] 2\n",
      "[8] 2\n",
      "[8] 2\n",
      "[8] 2\n",
      "[8] 2\n",
      "[8] 2\n",
      "[8] 2\n",
      "[8] 2\n"
     ]
    }
   ],
   "source": [
    "for i in range(100):\n",
    "    x = X[i]\n",
    "    y = Y[i]\n",
    "    print(clf.predict(x.reshape(-1, 1)), y)"
   ]
  },
  {
   "cell_type": "code",
   "execution_count": null,
   "id": "ea28ee4d-1b8b-45c9-8e20-70406b0d1e9d",
   "metadata": {},
   "outputs": [],
   "source": []
  }
 ],
 "metadata": {
  "kernelspec": {
   "display_name": "Python 3 (ipykernel)",
   "language": "python",
   "name": "python3"
  },
  "language_info": {
   "codemirror_mode": {
    "name": "ipython",
    "version": 3
   },
   "file_extension": ".py",
   "mimetype": "text/x-python",
   "name": "python",
   "nbconvert_exporter": "python",
   "pygments_lexer": "ipython3",
   "version": "3.9.7"
  }
 },
 "nbformat": 4,
 "nbformat_minor": 5
}
